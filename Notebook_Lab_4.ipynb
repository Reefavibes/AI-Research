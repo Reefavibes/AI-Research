{
  "nbformat": 4,
  "nbformat_minor": 0,
  "metadata": {
    "colab": {
      "provenance": [],
      "include_colab_link": true
    },
    "kernelspec": {
      "name": "python3",
      "display_name": "Python 3"
    },
    "language_info": {
      "name": "python"
    }
  },
  "cells": [
    {
      "cell_type": "markdown",
      "metadata": {
        "id": "view-in-github",
        "colab_type": "text"
      },
      "source": [
        "<a href=\"https://colab.research.google.com/github/Reefavibes/AI-Research/blob/main/Notebook_Lab_4.ipynb\" target=\"_parent\"><img src=\"https://colab.research.google.com/assets/colab-badge.svg\" alt=\"Open In Colab\"/></a>"
      ]
    },
    {
      "cell_type": "markdown",
      "source": [
        "#Monte Carlo"
      ],
      "metadata": {
        "id": "oaLPidcsUWq8"
      }
    },
    {
      "cell_type": "code",
      "source": [
        "import numpy as np\n",
        "import mat"
      ],
      "metadata": {
        "id": "71iPUDOqztE6"
      },
      "execution_count": null,
      "outputs": []
    },
    {
      "cell_type": "code",
      "metadata": {
        "id": "N9l2txUm1x4f",
        "outputId": "b47dd8c3-bf98-4c5c-f005-8cb962e61e8c",
        "colab": {
          "base_uri": "https://localhost:8080/",
          "height": 180
        }
      },
      "source": [
        "x = np.linspace(-3,3,100)"
      ],
      "execution_count": null,
      "outputs": [
        {
          "output_type": "error",
          "ename": "NameError",
          "evalue": "name 'np' is not defined",
          "traceback": [
            "\u001b[0;31m---------------------------------------------------------------------------\u001b[0m",
            "\u001b[0;31mNameError\u001b[0m                                 Traceback (most recent call last)",
            "\u001b[0;32m<ipython-input-2-ee415ed794ad>\u001b[0m in \u001b[0;36m<cell line: 1>\u001b[0;34m()\u001b[0m\n\u001b[0;32m----> 1\u001b[0;31m \u001b[0mx\u001b[0m \u001b[0;34m=\u001b[0m \u001b[0mnp\u001b[0m\u001b[0;34m.\u001b[0m\u001b[0mlinspace\u001b[0m\u001b[0;34m(\u001b[0m\u001b[0;34m-\u001b[0m\u001b[0;36m3\u001b[0m\u001b[0;34m,\u001b[0m\u001b[0;36m3\u001b[0m\u001b[0;34m,\u001b[0m\u001b[0;36m100\u001b[0m\u001b[0;34m)\u001b[0m\u001b[0;34m\u001b[0m\u001b[0;34m\u001b[0m\u001b[0m\n\u001b[0m",
            "\u001b[0;31mNameError\u001b[0m: name 'np' is not defined"
          ]
        }
      ]
    },
    {
      "cell_type": "code",
      "metadata": {
        "id": "iwp9VH061x61"
      },
      "source": [
        "y = x**2 + 2"
      ],
      "execution_count": null,
      "outputs": []
    },
    {
      "cell_type": "code",
      "metadata": {
        "id": "mR6awmdU1x9Q"
      },
      "source": [
        "plt.plot(x,y)"
      ],
      "execution_count": null,
      "outputs": []
    },
    {
      "cell_type": "code",
      "metadata": {
        "id": "lWHawjcS1x_W"
      },
      "source": [],
      "execution_count": null,
      "outputs": []
    },
    {
      "cell_type": "markdown",
      "metadata": {
        "id": "6qMRS6xM2Hpt"
      },
      "source": [
        "$f(x) = x^2 + 2$\n",
        "\n",
        "$Area = \\int_a^bf(x) dx$\n",
        "\n",
        "$= \\int_a^b (x^2+2) dx$\n",
        "\n",
        "$= \\left.\\frac{x^3}{3}+2x\\right\\vert_1^2$\n",
        "\n",
        "$= (\\frac{8}{3}+4) - (\\frac{1}{3}+2)$\n",
        "\n",
        "$= \\frac{13}{3}$"
      ]
    },
    {
      "cell_type": "code",
      "metadata": {
        "id": "SsdccAV61yBq"
      },
      "source": [
        "13/3"
      ],
      "execution_count": null,
      "outputs": []
    },
    {
      "cell_type": "markdown",
      "metadata": {
        "id": "jeEiI2823IX6"
      },
      "source": [
        "To integrate the function $f(x)$ over the interval $[a,b]$ we\n",
        "\n",
        "[1] find some value $M$ such that $f(x) < M$ over the interval $[a,b]$\n",
        "\n",
        "[2] select a random number $x$ from a uniform distribution over the interval $[a,b]$\n",
        "\n",
        "[3] select a random number y from a uniform distribution over the interval $[0,M]$\n",
        "\n",
        "[4] determine if $y > f(x)$ or $y ≤ f(x)$\n",
        "\n",
        "[5] repeat this process $N$ times, keeping track of the number of times $y ≤ f(x)$ or under the curve, successes $S$.\n",
        "\n",
        "The estimated probability of success is then:"
      ]
    },
    {
      "cell_type": "markdown",
      "metadata": {
        "id": "NdqIk22r3RaW"
      },
      "source": [
        "$\\frac{S}{N}=\\frac{\\text{Area under curve}}{\\text{Total area inside rectangle}} = \\frac{\\int_a^bf(x)dx}{M(b-a)}$"
      ]
    },
    {
      "cell_type": "markdown",
      "metadata": {
        "id": "P1lUvplv5rW-"
      },
      "source": [
        "$\\int_a^bf(x)dx = M(b-a)\\frac{S}{N}$"
      ]
    },
    {
      "cell_type": "code",
      "metadata": {
        "id": "BxflSiSf4kE6"
      },
      "source": [
        "def f(x):\n",
        "    y = x**2 + 2\n",
        "    return y"
      ],
      "execution_count": null,
      "outputs": []
    },
    {
      "cell_type": "code",
      "metadata": {
        "id": "V5LEKioh4ttl"
      },
      "source": [
        "plt.plot(x,f(x))"
      ],
      "execution_count": null,
      "outputs": []
    },
    {
      "cell_type": "code",
      "metadata": {
        "id": "UyVPMeWm4zt9"
      },
      "source": [],
      "execution_count": null,
      "outputs": []
    },
    {
      "cell_type": "code",
      "metadata": {
        "id": "q_XOtrrm2_Vm"
      },
      "source": [
        "M = 10"
      ],
      "execution_count": null,
      "outputs": []
    },
    {
      "cell_type": "code",
      "metadata": {
        "id": "hfGi86ia4Put"
      },
      "source": [
        "a = 1\n",
        "b = 2"
      ],
      "execution_count": null,
      "outputs": []
    },
    {
      "cell_type": "code",
      "metadata": {
        "id": "3QMEIxUI2_YJ"
      },
      "source": [
        "x = a + (b-a)*np.random.random()"
      ],
      "execution_count": null,
      "outputs": []
    },
    {
      "cell_type": "code",
      "source": [
        "x"
      ],
      "metadata": {
        "id": "kK3OfMnThUeG"
      },
      "execution_count": null,
      "outputs": []
    },
    {
      "cell_type": "code",
      "metadata": {
        "id": "-4_SdIRA2_aP"
      },
      "source": [
        "y = M*np.random.random()"
      ],
      "execution_count": null,
      "outputs": []
    },
    {
      "cell_type": "code",
      "metadata": {
        "id": "7mySC0lfJd4V"
      },
      "source": [
        "x,y,f(x)"
      ],
      "execution_count": null,
      "outputs": []
    },
    {
      "cell_type": "code",
      "metadata": {
        "id": "YcBlPFsRxgFe"
      },
      "source": [
        "y < f(x)"
      ],
      "execution_count": null,
      "outputs": []
    },
    {
      "cell_type": "code",
      "metadata": {
        "id": "WgZGYWmi4_LG"
      },
      "source": [
        "N = 100_000\n",
        "S = 0\n",
        "for i in range(N):\n",
        "\n",
        "    x = a + (b-a)*np.random.random()\n",
        "    y = M*np.random.random()\n",
        "\n",
        "    S += (y < f(x))\n",
        "\n",
        "M*(b-a)*(S/N)"
      ],
      "execution_count": null,
      "outputs": []
    },
    {
      "cell_type": "code",
      "metadata": {
        "id": "hciFkOXZ5TeU"
      },
      "source": [],
      "execution_count": null,
      "outputs": []
    },
    {
      "cell_type": "code",
      "metadata": {
        "id": "4vCgd-7RVmA4"
      },
      "source": [],
      "execution_count": null,
      "outputs": []
    },
    {
      "cell_type": "code",
      "metadata": {
        "id": "X9NTMNsyVmDe"
      },
      "source": [
        "def f(x):\n",
        "    y = x**2 + 2\n",
        "    return y"
      ],
      "execution_count": null,
      "outputs": []
    },
    {
      "cell_type": "code",
      "metadata": {
        "id": "GAXseAalVml9"
      },
      "source": [
        "def monte_carlo_integrate(f,a,b,N):\n",
        "\n",
        "    N = 100000\n",
        "    S = 0\n",
        "    for i in range(N):\n",
        "\n",
        "        x = a + (b-a)*np.random.random()\n",
        "        y = M*np.random.random()\n",
        "\n",
        "        S += (y < f(x))\n",
        "\n",
        "    return M*(b-a)*(S/N)"
      ],
      "execution_count": null,
      "outputs": []
    },
    {
      "cell_type": "code",
      "metadata": {
        "id": "_bHAUyHuV1vo"
      },
      "source": [
        "monte_carlo_integrate(f,1,2,1000)"
      ],
      "execution_count": null,
      "outputs": []
    },
    {
      "cell_type": "code",
      "metadata": {
        "id": "mqt7XrSlV7x4"
      },
      "source": [],
      "execution_count": null,
      "outputs": []
    },
    {
      "cell_type": "code",
      "metadata": {
        "id": "c4Jl1ryiWlwx"
      },
      "source": [
        "from sympy import *"
      ],
      "execution_count": null,
      "outputs": []
    },
    {
      "cell_type": "code",
      "metadata": {
        "id": "DMWY2NVMWlzN"
      },
      "source": [
        "x = Symbol('x')"
      ],
      "execution_count": null,
      "outputs": []
    },
    {
      "cell_type": "code",
      "metadata": {
        "id": "fF9tSLvPKr1w"
      },
      "source": [
        "x"
      ],
      "execution_count": null,
      "outputs": []
    },
    {
      "cell_type": "code",
      "metadata": {
        "id": "6pQiyAFWWoZE"
      },
      "source": [
        "integrate(x**2 + 2, (x,1,2))"
      ],
      "execution_count": null,
      "outputs": []
    },
    {
      "cell_type": "code",
      "metadata": {
        "id": "tx40llaFWtVI"
      },
      "source": [
        "13/3"
      ],
      "execution_count": null,
      "outputs": []
    },
    {
      "cell_type": "code",
      "metadata": {
        "id": "EXvJw8uHW2F7"
      },
      "source": [
        "integrate(x**3 + 3, (x,1,2))"
      ],
      "execution_count": null,
      "outputs": []
    },
    {
      "cell_type": "code",
      "metadata": {
        "id": "AwKCW9spW9OE"
      },
      "source": [
        "27/4"
      ],
      "execution_count": null,
      "outputs": []
    },
    {
      "cell_type": "code",
      "metadata": {
        "id": "t8HmnXp4WuV1"
      },
      "source": [
        "x = 0"
      ],
      "execution_count": null,
      "outputs": []
    },
    {
      "cell_type": "code",
      "metadata": {
        "id": "XYaeF2rBW2IX"
      },
      "source": [
        "def f(x):\n",
        "    y = x**3 + 3\n",
        "    return y"
      ],
      "execution_count": null,
      "outputs": []
    },
    {
      "cell_type": "code",
      "metadata": {
        "id": "kBmtn03YW4lg"
      },
      "source": [
        "monte_carlo_integrate(f,1,2,1000000)"
      ],
      "execution_count": null,
      "outputs": []
    },
    {
      "cell_type": "code",
      "metadata": {
        "id": "HqoTlTRZW-mL"
      },
      "source": [],
      "execution_count": null,
      "outputs": []
    },
    {
      "cell_type": "code",
      "metadata": {
        "id": "Q0V0Q3scYOiC"
      },
      "source": [
        "N = 2000\n",
        "S = 0\n",
        "Z = np.zeros(N,)\n",
        "for i in range(1,N):\n",
        "\n",
        "    x = a + (b-a)*np.random.random()\n",
        "    y = M*np.random.random()\n",
        "\n",
        "    S += (y < f(x))\n",
        "\n",
        "    Z[i] = M*(b-a)*(S/i)"
      ],
      "execution_count": null,
      "outputs": []
    },
    {
      "cell_type": "code",
      "metadata": {
        "id": "pbgC39T5YjnM"
      },
      "source": [
        "plt.plot(Z)\n",
        "plt.plot(6.75*np.ones(Z.shape))"
      ],
      "execution_count": null,
      "outputs": []
    },
    {
      "cell_type": "code",
      "metadata": {
        "id": "_LG9FfbqY-DY"
      },
      "source": [],
      "execution_count": null,
      "outputs": []
    },
    {
      "cell_type": "code",
      "source": [
        "import numpy as np\n",
        "import matplotlib.pyplot as plt\n",
        "from sympy import Symbol, integrate\n",
        "\n",
        "# Define a general function for Monte Carlo integration\n",
        "def monte_carlo_integrate(func, a, b, N, M):\n",
        "    S = 0\n",
        "    for _ in range(N):\n",
        "        x = a + (b - a) * np.random.random()\n",
        "        y = M * np.random.random()\n",
        "        if y < func(x):\n",
        "            S += 1\n",
        "    return M * (b - a) * (S / N)\n",
        "\n",
        "# Define the functions to be integrated\n",
        "def f1(x):\n",
        "    return x**2 + 2\n",
        "\n",
        "def f2(x):\n",
        "    return x**3 + 3\n",
        "\n",
        "# Calculate exact and estimated areas\n",
        "def calculate_areas(func, a, b, N, M):\n",
        "    x_sym = Symbol('x')\n",
        "    exact_area = integrate(func(x_sym), (x_sym, a, b)).evalf()\n",
        "    estimated_area = monte_carlo_integrate(func, a, b, N, M)\n",
        "    return exact_area, estimated_area\n",
        "\n",
        "# Plotting function\n",
        "def plot_function(func, title, a=-3, b=3):\n",
        "    x = np.linspace(a, b, 100)\n",
        "    y = func(x)\n",
        "    plt.plot(x, y, label=title)\n",
        "    plt.title(title)\n",
        "    plt.xlabel(\"x\")\n",
        "    plt.ylabel(\"f(x)\")\n",
        "    plt.legend()\n",
        "    plt.show()\n",
        "\n",
        "# Plot the functions\n",
        "plot_function(f1, \"$f(x) = x^2 + 2$\")\n",
        "plot_function(f2, \"$f(x) = x^3 + 3$\")\n",
        "\n",
        "# Calculate and print areas\n",
        "exact_area_f1, estimated_area_f1 = calculate_areas(f1, 1, 2, 100000, 20)\n",
        "exact_area_f2, estimated_area_f2 = calculate_areas(f2, 1, 2, 1000000, 20)\n",
        "\n",
        "print(\"Exact Area under f1:\", exact_area_f1)\n",
        "print(\"Estimated Area under f1:\", estimated_area_f1)\n",
        "print(\"Exact Area under f2:\", exact_area_f2)\n",
        "print(\"Estimated Area under f2:\", estimated_area_f2)\n"
      ],
      "metadata": {
        "id": "Os5t-jDcm7O7"
      },
      "execution_count": null,
      "outputs": []
    },
    {
      "cell_type": "code",
      "source": [],
      "metadata": {
        "id": "ddUrDHgsm7WD"
      },
      "execution_count": null,
      "outputs": []
    },
    {
      "cell_type": "code",
      "source": [],
      "metadata": {
        "id": "kXFoBNi-m7Yk"
      },
      "execution_count": null,
      "outputs": []
    },
    {
      "cell_type": "markdown",
      "source": [
        "# Visualization"
      ],
      "metadata": {
        "id": "GFcUm8hpn6Jb"
      }
    },
    {
      "cell_type": "code",
      "source": [
        "# Function to plot points for Monte Carlo integration\n",
        "def plot_monte_carlo(func, a, b, M, N):\n",
        "    x_points = a + (b - a) * np.random.random(N)\n",
        "    y_points = M * np.random.random(N)\n",
        "    below = y_points < func(x_points)\n",
        "    above = np.invert(below)\n",
        "\n",
        "    # Plotting the function\n",
        "    x = np.linspace(a - 1, b + 1, 400)\n",
        "    y = func(x)\n",
        "    plt.plot(x, y, label=\"f(x)\", color='black')\n",
        "\n",
        "    # Plotting the points\n",
        "    plt.scatter(x_points[below], y_points[below], color='green', label='Points below f(x)')\n",
        "    plt.scatter(x_points[above], y_points[above], color='red', label='Points above f(x)')\n",
        "\n",
        "    # Setting up the plot limits and labels\n",
        "    plt.xlim(a - 1, b + 1)\n",
        "    plt.ylim(0, M)\n",
        "    plt.xlabel(\"x\")\n",
        "    plt.ylabel(\"y\")\n",
        "    plt.title(\"Monte Carlo Integration Visualization\")\n",
        "    plt.legend()\n",
        "\n",
        "    plt.show()\n",
        "\n",
        "# Function to be integrated\n",
        "def f(x):\n",
        "    return x**2 + 2\n",
        "\n",
        "# Parameters for Monte Carlo Integration\n",
        "a, b, M, N = 1, 2, 20, 1000\n",
        "\n",
        "# Plotting the Monte Carlo Integration\n",
        "plot_monte_carlo(f, a, b, M, N)"
      ],
      "metadata": {
        "id": "EM_mzhM0m7az"
      },
      "execution_count": null,
      "outputs": []
    },
    {
      "cell_type": "code",
      "source": [],
      "metadata": {
        "id": "e3VWQ87dm7dE"
      },
      "execution_count": null,
      "outputs": []
    },
    {
      "cell_type": "code",
      "source": [
        "# Function for Monte Carlo Integration\n",
        "def monte_carlo_integrate(func, a, b, N, M):\n",
        "    S = 0\n",
        "    for _ in range(N):\n",
        "        x = a + (b - a) * np.random.random()\n",
        "        y = M * np.random.random()\n",
        "        if y < func(x):\n",
        "            S += 1\n",
        "    return M * (b - a) * (S / N)\n",
        "\n",
        "# Function to be integrated\n",
        "def f(x):\n",
        "    return x**2 + 2\n",
        "\n",
        "# Parameters\n",
        "a, b, M = 1, 2, 20\n",
        "iterations = np.logspace(1, 6, 100, dtype=int)  # Using logarithmically spaced iterations for smoother curve\n",
        "estimated_areas = []\n",
        "\n",
        "# Calculate estimated areas for different numbers of iterations\n",
        "for N in iterations:\n",
        "    estimated_area = monte_carlo_integrate(f, a, b, N, M)\n",
        "    estimated_areas.append(estimated_area)\n",
        "\n",
        "# Plotting convergence\n",
        "plt.figure(figsize=(10, 6))\n",
        "plt.plot(iterations, estimated_areas, color='blue')\n",
        "plt.xscale('log')\n",
        "plt.xlabel('Number of Iterations (log scale)')\n",
        "plt.ylabel('Estimated Area')\n",
        "plt.title('Convergence of Monte Carlo Integration')\n",
        "plt.grid(True)\n",
        "plt.show()"
      ],
      "metadata": {
        "id": "ziF6JLMpm7ez"
      },
      "execution_count": null,
      "outputs": []
    },
    {
      "cell_type": "code",
      "source": [],
      "metadata": {
        "id": "y5xIjBQNm7g7"
      },
      "execution_count": null,
      "outputs": []
    },
    {
      "cell_type": "code",
      "source": [],
      "metadata": {
        "id": "SNuEAKAGm7jE"
      },
      "execution_count": null,
      "outputs": []
    }
  ]
}